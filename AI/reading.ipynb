{
 "cells": [
  {
   "cell_type": "markdown",
   "metadata": {},
   "source": [
    "## Reading Plate Number using OCR"
   ]
  },
  {
   "cell_type": "code",
   "execution_count": 2,
   "metadata": {},
   "outputs": [],
   "source": [
    "import cv2\n",
    "import easyocr\n",
    "import re\n",
    "import os\n",
    "from ultralytics import YOLO"
   ]
  },
  {
   "cell_type": "code",
   "execution_count": 3,
   "metadata": {},
   "outputs": [],
   "source": [
    "# Load model YOLO hasil training\n",
    "model_path = r\"training_results\\weights\\best.pt\"\n",
    "model = YOLO(model_path)"
   ]
  },
  {
   "cell_type": "code",
   "execution_count": 5,
   "metadata": {},
   "outputs": [
    {
     "name": "stderr",
     "output_type": "stream",
     "text": [
      "Downloading recognition model, please wait. This may take several minutes depending upon your network connection.\n"
     ]
    },
    {
     "name": "stdout",
     "output_type": "stream",
     "text": [
      "Progress: |██████████████████████████████████████████████████| 100.0% Complete"
     ]
    }
   ],
   "source": [
    "# Inisialisasi OCR\n",
    "reader = easyocr.Reader(['en', 'id'])  # Bisa tambahkan 'id' jika ada model bahasa Indonesia"
   ]
  },
  {
   "cell_type": "code",
   "execution_count": 12,
   "metadata": {},
   "outputs": [],
   "source": [
    "# Path gambar yang ingin diproses\n",
    "image_path = r\"test_input\\test.jpg\"\n",
    "output_folder = r\"test_reading\""
   ]
  },
  {
   "cell_type": "code",
   "execution_count": 13,
   "metadata": {},
   "outputs": [],
   "source": [
    "# Pastikan folder output ada\n",
    "os.makedirs(output_folder, exist_ok=True)"
   ]
  },
  {
   "cell_type": "code",
   "execution_count": 14,
   "metadata": {},
   "outputs": [],
   "source": [
    "# Load gambar\n",
    "image = cv2.imread(image_path)"
   ]
  },
  {
   "cell_type": "code",
   "execution_count": 15,
   "metadata": {},
   "outputs": [
    {
     "name": "stdout",
     "output_type": "stream",
     "text": [
      "\n",
      "0: 480x640 1 plat_nomor, 272.0ms\n",
      "Speed: 6.0ms preprocess, 272.0ms inference, 145.1ms postprocess per image at shape (1, 3, 480, 640)\n",
      "Hasil crop plat nomor disimpan di: test_reading\\cropped_plate_0_0.jpg\n",
      "Nomor Plat: B 1627 PAJ\n",
      "Tanggal Pajak: Tidak ditemukan\n"
     ]
    }
   ],
   "source": [
    "\n",
    "# Jalankan YOLO untuk deteksi bounding box plat nomor\n",
    "results = model(image)\n",
    "\n",
    "# Loop melalui hasil deteksi\n",
    "for i, result in enumerate(results):\n",
    "    for j, box in enumerate(result.boxes):\n",
    "        # Ambil koordinat bounding box\n",
    "        x1, y1, x2, y2 = map(int, box.xyxy[0])  \n",
    "\n",
    "        # Crop plat nomor dari gambar asli\n",
    "        plate_crop = image[y1:y2, x1:x2]\n",
    "\n",
    "        # Convert ke grayscale untuk OCR\n",
    "        plate_gray = cv2.cvtColor(plate_crop, cv2.COLOR_BGR2GRAY)\n",
    "\n",
    "        # Simpan hasil crop\n",
    "        cropped_plate_path = os.path.join(output_folder, f\"cropped_plate_{i}_{j}.jpg\")\n",
    "        cv2.imwrite(cropped_plate_path, plate_crop)\n",
    "\n",
    "        print(f\"Hasil crop plat nomor disimpan di: {cropped_plate_path}\")\n",
    "\n",
    "        # Jalankan OCR\n",
    "        ocr_results = reader.readtext(plate_gray)\n",
    "\n",
    "        # Gabungkan hasil OCR menjadi teks\n",
    "        detected_text = \" \".join([text[1] for text in ocr_results])\n",
    "\n",
    "        # Gunakan regex untuk mencari nomor plat dan tanggal pajak\n",
    "        plat_nomor_pattern = r\"[A-Z]{1,2} \\d{1,4} [A-Z]{1,3}\"  # Format plat nomor\n",
    "        pajak_pattern = r\"\\d{2}\\.\\d{2}\"  # Format tanggal pajak MM.YY\n",
    "\n",
    "        plat_nomor = re.search(plat_nomor_pattern, detected_text)\n",
    "        pajak = re.search(pajak_pattern, detected_text)\n",
    "\n",
    "        # Cetak hasil\n",
    "        print(f\"Nomor Plat: {plat_nomor.group() if plat_nomor else 'Tidak ditemukan'}\")\n",
    "        print(f\"Tanggal Pajak: {pajak.group() if pajak else 'Tidak ditemukan'}\")\n",
    "\n"
   ]
  },
  {
   "cell_type": "code",
   "execution_count": 16,
   "metadata": {},
   "outputs": [
    {
     "name": "stdout",
     "output_type": "stream",
     "text": [
      "Hasil OCR Mentah: [([[10, 0], [339, 0], [339, 93], [10, 93]], 'B 1627 PAJ]', 0.4430586876887411), ([[128, 82], [170, 82], [170, 112], [128, 112]], '09', 0.9992297268215895), ([[134, 108], [220, 108], [220, 133], [134, 133]], 'OMw Wuna', 0.12073781686210408), ([[163.65835921350012, 80.31671842700025], [217.504318037472, 76.34821576251848], [218.34164078649988, 105.68328157299975], [165.495681962528, 110.65178423748152]], \"'25\", 0.7175507815418156)]\n"
     ]
    }
   ],
   "source": [
    "print(\"Hasil OCR Mentah:\", ocr_results)\n"
   ]
  },
  {
   "cell_type": "code",
   "execution_count": 17,
   "metadata": {},
   "outputs": [],
   "source": [
    "# Gabungkan hasil OCR jadi satu teks\n",
    "detected_text = \" \".join([text[1] for text in ocr_results])\n",
    "\n",
    "# Bersihkan teks dari karakter yang mengganggu (' atau lainnya)\n",
    "detected_text = re.sub(r\"[^\\w\\s\\.\\-]\", \"\", detected_text)\n",
    "\n",
    "# Gunakan regex yang lebih fleksibel\n",
    "pajak_pattern = r\"\\d{2}[\\.\\,\\-\\s]?\\d{2}\"\n"
   ]
  },
  {
   "cell_type": "code",
   "execution_count": 18,
   "metadata": {},
   "outputs": [
    {
     "name": "stdout",
     "output_type": "stream",
     "text": [
      "Teks OCR setelah pembersihan: B 1627 PAJ 09 OMw Wuna 25\n"
     ]
    }
   ],
   "source": [
    "print(f\"Teks OCR setelah pembersihan: {detected_text}\")\n"
   ]
  },
  {
   "cell_type": "code",
   "execution_count": 19,
   "metadata": {},
   "outputs": [
    {
     "name": "stdout",
     "output_type": "stream",
     "text": [
      "Tanggal Pajak: 1627\n"
     ]
    }
   ],
   "source": [
    "pajak = re.search(pajak_pattern, detected_text)\n",
    "print(f\"Tanggal Pajak: {pajak.group() if pajak else 'Tidak ditemukan'}\")\n"
   ]
  },
  {
   "cell_type": "code",
   "execution_count": 20,
   "metadata": {},
   "outputs": [
    {
     "name": "stdout",
     "output_type": "stream",
     "text": [
      "Tanggal Pajak: 09.25\n"
     ]
    }
   ],
   "source": [
    "import re\n",
    "\n",
    "# OCR output setelah pembersihan\n",
    "detected_text = \"B 1627 PAJ 09 OMw Wuna 25\"\n",
    "\n",
    "# Cari semua angka dengan 2 digit\n",
    "matches = re.findall(r\"\\b\\d{2}\\b\", detected_text)\n",
    "\n",
    "# Jika ditemukan minimal 2 angka, asumsikan MM.YY dari OCR\n",
    "if len(matches) >= 2:\n",
    "    pajak = f\"{matches[0]}.{matches[1]}\"\n",
    "else:\n",
    "    pajak = \"Tidak ditemukan\"\n",
    "\n",
    "print(f\"Tanggal Pajak: {pajak}\")\n"
   ]
  },
  {
   "cell_type": "code",
   "execution_count": 21,
   "metadata": {},
   "outputs": [],
   "source": [
    "image_path_2 = r\"test_input\\test2.jpeg\""
   ]
  },
  {
   "cell_type": "code",
   "execution_count": 22,
   "metadata": {},
   "outputs": [],
   "source": [
    "# Load gambar\n",
    "image = cv2.imread(image_path_2)"
   ]
  },
  {
   "cell_type": "code",
   "execution_count": 23,
   "metadata": {},
   "outputs": [
    {
     "name": "stdout",
     "output_type": "stream",
     "text": [
      "\n",
      "0: 480x640 1 plat_nomor, 258.6ms\n",
      "Speed: 7.0ms preprocess, 258.6ms inference, 5.0ms postprocess per image at shape (1, 3, 480, 640)\n",
      "Hasil crop plat nomor disimpan di: test_reading\\cropped_plate_0_0.jpg\n",
      "Nomor Plat: B 2156 TOR\n",
      "Tanggal Pajak: 09.27\n"
     ]
    }
   ],
   "source": [
    "\n",
    "# Jalankan YOLO untuk deteksi bounding box plat nomor\n",
    "results = model(image)\n",
    "\n",
    "# Loop melalui hasil deteksi\n",
    "for i, result in enumerate(results):\n",
    "    for j, box in enumerate(result.boxes):\n",
    "        # Ambil koordinat bounding box\n",
    "        x1, y1, x2, y2 = map(int, box.xyxy[0])  \n",
    "\n",
    "        # Crop plat nomor dari gambar asli\n",
    "        plate_crop = image[y1:y2, x1:x2]\n",
    "\n",
    "        # Convert ke grayscale untuk OCR\n",
    "        plate_gray = cv2.cvtColor(plate_crop, cv2.COLOR_BGR2GRAY)\n",
    "\n",
    "        # Simpan hasil crop\n",
    "        cropped_plate_path = os.path.join(output_folder, f\"cropped_plate_{i}_{j}.jpg\")\n",
    "        cv2.imwrite(cropped_plate_path, plate_crop)\n",
    "\n",
    "        print(f\"Hasil crop plat nomor disimpan di: {cropped_plate_path}\")\n",
    "\n",
    "        # Jalankan OCR\n",
    "        ocr_results = reader.readtext(plate_gray)\n",
    "\n",
    "        # Gabungkan hasil OCR menjadi teks\n",
    "        detected_text = \" \".join([text[1] for text in ocr_results])\n",
    "\n",
    "        # Gunakan regex untuk mencari nomor plat dan tanggal pajak\n",
    "        plat_nomor_pattern = r\"[A-Z]{1,2} \\d{1,4} [A-Z]{1,3}\"  # Format plat nomor\n",
    "        pajak_pattern = r\"\\d{2}\\.\\d{2}\"  # Format tanggal pajak MM.YY\n",
    "\n",
    "        plat_nomor = re.search(plat_nomor_pattern, detected_text)\n",
    "        pajak = re.search(pajak_pattern, detected_text)\n",
    "\n",
    "        # Cetak hasil\n",
    "        print(f\"Nomor Plat: {plat_nomor.group() if plat_nomor else 'Tidak ditemukan'}\")\n",
    "        print(f\"Tanggal Pajak: {pajak.group() if pajak else 'Tidak ditemukan'}\")\n",
    "\n"
   ]
  },
  {
   "cell_type": "code",
   "execution_count": 26,
   "metadata": {},
   "outputs": [],
   "source": [
    "image_path_3 = r\"test_input\\test4.jpeg\""
   ]
  },
  {
   "cell_type": "code",
   "execution_count": 27,
   "metadata": {},
   "outputs": [],
   "source": [
    "# Load gambar\n",
    "image = cv2.imread(image_path_3)"
   ]
  },
  {
   "cell_type": "code",
   "execution_count": 28,
   "metadata": {},
   "outputs": [
    {
     "name": "stdout",
     "output_type": "stream",
     "text": [
      "\n",
      "0: 480x640 1 plat_nomor, 300.3ms\n",
      "Speed: 1866.8ms preprocess, 300.3ms inference, 57.3ms postprocess per image at shape (1, 3, 480, 640)\n",
      "Hasil crop plat nomor disimpan di: test_reading\\cropped_plate_0_0.jpg\n",
      "Nomor Plat: Tidak ditemukan\n",
      "Tanggal Pajak: Tidak ditemukan\n"
     ]
    }
   ],
   "source": [
    "\n",
    "# Jalankan YOLO untuk deteksi bounding box plat nomor\n",
    "results = model(image)\n",
    "\n",
    "# Loop melalui hasil deteksi\n",
    "for i, result in enumerate(results):\n",
    "    for j, box in enumerate(result.boxes):\n",
    "        # Ambil koordinat bounding box\n",
    "        x1, y1, x2, y2 = map(int, box.xyxy[0])  \n",
    "\n",
    "        # Crop plat nomor dari gambar asli\n",
    "        plate_crop = image[y1:y2, x1:x2]\n",
    "\n",
    "        # Convert ke grayscale untuk OCR\n",
    "        plate_gray = cv2.cvtColor(plate_crop, cv2.COLOR_BGR2GRAY)\n",
    "\n",
    "        # Simpan hasil crop\n",
    "        cropped_plate_path = os.path.join(output_folder, f\"cropped_plate_{i}_{j}.jpg\")\n",
    "        cv2.imwrite(cropped_plate_path, plate_crop)\n",
    "\n",
    "        print(f\"Hasil crop plat nomor disimpan di: {cropped_plate_path}\")\n",
    "\n",
    "        # Jalankan OCR\n",
    "        ocr_results = reader.readtext(plate_gray)\n",
    "\n",
    "        # Gabungkan hasil OCR menjadi teks\n",
    "        detected_text = \" \".join([text[1] for text in ocr_results])\n",
    "\n",
    "        # Gunakan regex untuk mencari nomor plat dan tanggal pajak\n",
    "        plat_nomor_pattern = r\"[A-Z]{1,2} \\d{1,4} [A-Z]{1,3}\"  # Format plat nomor\n",
    "        pajak_pattern = r\"\\d{2}\\.\\d{2}\"  # Format tanggal pajak MM.YY\n",
    "\n",
    "        plat_nomor = re.search(plat_nomor_pattern, detected_text)\n",
    "        pajak = re.search(pajak_pattern, detected_text)\n",
    "\n",
    "        # Cetak hasil\n",
    "        print(f\"Nomor Plat: {plat_nomor.group() if plat_nomor else 'Tidak ditemukan'}\")\n",
    "        print(f\"Tanggal Pajak: {pajak.group() if pajak else 'Tidak ditemukan'}\")\n",
    "\n"
   ]
  }
 ],
 "metadata": {
  "kernelspec": {
   "display_name": "yolov8-gpu-env",
   "language": "python",
   "name": "python3"
  },
  "language_info": {
   "codemirror_mode": {
    "name": "ipython",
    "version": 3
   },
   "file_extension": ".py",
   "mimetype": "text/x-python",
   "name": "python",
   "nbconvert_exporter": "python",
   "pygments_lexer": "ipython3",
   "version": "3.12.2"
  }
 },
 "nbformat": 4,
 "nbformat_minor": 2
}
